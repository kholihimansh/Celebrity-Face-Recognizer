{
 "cells": [
  {
   "cell_type": "code",
   "execution_count": 1,
   "id": "9c8e6615",
   "metadata": {},
   "source": [
    "import numpy as np\n",
    "import cv2\n",
    "import matplotlib.pyplot as plt\n",
    "%matplotlib inline"
   ],
   "outputs": []
  },
  {
   "cell_type": "code",
   "execution_count": 2,
   "id": "6c7a53ba",
   "metadata": {},
   "source": [
    "import cv2\n",
    "# Load the image\n",
    "img = cv2.imread('model/test_images/maria-sharapova1.jpg')\n",
    "\n",
    "print(img.shape)"
   ],
   "outputs": []
  },
  {
   "cell_type": "code",
   "execution_count": 3,
   "id": "9406f68d",
   "metadata": {},
   "source": [
    "plt.imshow(img)"
   ],
   "outputs": []
  },
  {
   "cell_type": "code",
   "execution_count": 4,
   "id": "244f677f",
   "metadata": {},
   "source": [
    "gray=cv2.cvtColor(img , cv2.COLOR_BGR2GRAY)\n",
    "gray.shape"
   ],
   "outputs": []
  },
  {
   "cell_type": "code",
   "execution_count": 5,
   "id": "df6c63c5",
   "metadata": {},
   "source": [
    "gray"
   ],
   "outputs": []
  },
  {
   "cell_type": "code",
   "execution_count": 6,
   "id": "af847134",
   "metadata": {},
   "source": [
    "plt.imshow(gray , cmap='gray')"
   ],
   "outputs": []
  },
  {
   "cell_type": "code",
   "execution_count": 7,
   "id": "ac09adec",
   "metadata": {},
   "source": [
    "face_cascade=cv2.CascadeClassifier('model/opencv/haarcascade_frontalface_default.xml')\n",
    "eye_cascade=cv2.CascadeClassifier('model/opencv/haarcascade_eye.xml')\n",
    "\n",
    "faces=face_cascade.detectMultiScale(gray , 1.3 , 5)\n",
    "faces\n"
   ],
   "outputs": []
  },
  {
   "cell_type": "code",
   "execution_count": 8,
   "id": "fcd84a21",
   "metadata": {},
   "source": [
    "(x,y,w,h)=faces[0]\n",
    "x,y,w,h"
   ],
   "outputs": []
  },
  {
   "cell_type": "code",
   "execution_count": 9,
   "id": "97281c58",
   "metadata": {},
   "source": [
    "face_img=cv2.rectangle(img,(x,y),(x+w , y+h),(255,0,0),2)\n",
    "plt.imshow(face_img)"
   ],
   "outputs": []
  },
  {
   "cell_type": "code",
   "execution_count": 10,
   "id": "297ea287",
   "metadata": {},
   "source": [
    "cv2.destroyAllWindows()\n",
    "for(x,y,w,h) in faces:\n",
    "    face_img=cv2.rectangle(img,(x,y),(x+w,y+h),(255,0,0),2)\n",
    "    roi_gray=gray[y:y+h , x:x+w]\n",
    "    roi_color=face_img[y:y+h , x:x+w]\n",
    "    eyes=eye_cascade.detectMultiScale(roi_gray)\n",
    "    for(ex , ey , ew , eh) in eyes:\n",
    "        cv2.rectangle(roi_color,(ex,ey),(ex+ew , ey+eh),(0,255,0),2)\n",
    "        \n",
    "\n",
    "plt.figure()\n",
    "plt.imshow(face_img , cmap='gray')\n",
    "plt.show()"
   ],
   "outputs": []
  },
  {
   "cell_type": "code",
   "execution_count": 11,
   "id": "6f537bb0",
   "metadata": {},
   "source": [
    "%matplotlib inline\n",
    "plt.imshow(roi_color , cmap='gray')"
   ],
   "outputs": []
  },
  {
   "cell_type": "code",
   "execution_count": 12,
   "id": "cd456082",
   "metadata": {},
   "source": [
    "cropped_img=np.array(roi_color)\n",
    "cropped_img.shape"
   ],
   "outputs": []
  },
  {
   "cell_type": "code",
   "execution_count": 13,
   "id": "ef180a95",
   "metadata": {},
   "source": [
    "import numpy as np\n",
    "import pywt as py\n",
    "import cv2"
   ],
   "outputs": []
  },
  {
   "cell_type": "code",
   "execution_count": 14,
   "id": "bbd195db",
   "metadata": {},
   "source": [
    "def w2d(img , mode=\"haar\" , level=1):\n",
    "    imArray=img\n",
    "    \n",
    "    #Datatype conversions\n",
    "    #Convert to grayscale\n",
    "    imArray=cv2.cvtColor(imArray , cv2.COLOR_RGB2GRAY)\n",
    "    \n",
    "    #Convert to float\n",
    "    imArray=np.float32(imArray)\n",
    "    imArray /=255;\n",
    "    \n",
    "    #Compute coefficients\n",
    "    coeffs=py.wavedec2(imArray , mode , level=level)\n",
    "    \n",
    "    #Process Coefficients\n",
    "    coeffs_H=list(coeffs)\n",
    "    coeffs_H[0]*=0;\n",
    "    \n",
    "    #Reconstruction\n",
    "    imArray_H=py.waverec2(coeffs_H , mode);\n",
    "    imArray_H *=255;\n",
    "    imArray_H = np.uint8(imArray_H)\n",
    "    \n",
    "    return imArray_H"
   ],
   "outputs": []
  },
  {
   "cell_type": "code",
   "execution_count": 15,
   "id": "ec037641",
   "metadata": {
    "scrolled": true
   },
   "source": [
    "im_har=w2d(cropped_img , 'db1' , 5)\n",
    "plt.imshow(im_har , cmap='gray')"
   ],
   "outputs": []
  },
  {
   "cell_type": "code",
   "execution_count": 16,
   "id": "1533071f",
   "metadata": {},
   "source": [
    "def get_cropped_image_if_2_eyes(image_path):\n",
    "    img=cv2.imread(image_path)\n",
    "    gray=cv2.cvtColor(img , cv2.COLOR_BGR2GRAY)\n",
    "    faces=face_cascade.detectMultiScale(gray , 1.3 , 5)\n",
    "    for(x,y,w,h) in faces:\n",
    "        roi_gray=gray[y:y+h , x:x+w]\n",
    "        roi_color=img[y:y+h , x:x+w]\n",
    "        eyes=eye_cascade.detectMultiScale(roi_gray)\n",
    "        if len(eyes)>=2:\n",
    "            return roi_color"
   ],
   "outputs": []
  },
  {
   "cell_type": "code",
   "execution_count": 17,
   "id": "f0dadeba",
   "metadata": {},
   "source": [
    "original_image=cv2.imread('model/test_images/maria-sharapova1.jpg')\n",
    "plt.imshow(original_image)"
   ],
   "outputs": []
  },
  {
   "cell_type": "code",
   "execution_count": 18,
   "id": "d8c165ca",
   "metadata": {},
   "source": [
    "cropped_image=get_cropped_image_if_2_eyes('model/test_images/maria-sharapova1.jpg')\n",
    "plt.imshow(cropped_image)"
   ],
   "outputs": []
  },
  {
   "cell_type": "code",
   "execution_count": 19,
   "id": "383acd50",
   "metadata": {},
   "source": [
    "org_image_obstructed = cv2.imread('model/test_images/maria-sharapova2.jpg')\n",
    "plt.imshow(org_image_obstructed)\n"
   ],
   "outputs": []
  },
  {
   "cell_type": "code",
   "execution_count": 20,
   "id": "2fc34b48",
   "metadata": {},
   "source": [
    "cropped_image_no_2_eyes=get_cropped_image_if_2_eyes('model/test_images/maria-sharapova2.jpg')\n",
    "cropped_image_no_2_eyes"
   ],
   "outputs": []
  },
  {
   "cell_type": "code",
   "execution_count": 21,
   "id": "b752895a",
   "metadata": {},
   "source": [
    "path_to_data='model/dataset/'\n",
    "path_to_cr_data='model/dataset/cropped/'"
   ],
   "outputs": []
  },
  {
   "cell_type": "code",
   "execution_count": 22,
   "id": "09b880a6",
   "metadata": {},
   "source": [
    "import os\n",
    "\n",
    "# List to store the paths of all subdirectories\n",
    "img_dirs = []\n",
    "for entry in os.scandir(path_to_data):\n",
    "    if entry.is_dir():\n",
    "        img_dirs.append(entry.path)\n",
    "\n",
    "\n"
   ],
   "outputs": []
  },
  {
   "cell_type": "code",
   "execution_count": 23,
   "id": "8043b007",
   "metadata": {},
   "source": [
    "img_dirs"
   ],
   "outputs": []
  },
  {
   "cell_type": "code",
   "execution_count": 24,
   "id": "c905034c",
   "metadata": {},
   "source": [
    "import shutil\n",
    "if os.path.exists(path_to_cr_data):\n",
    "    shutil.rmtree(path_to_cr_data)\n",
    "os.mkdir(path_to_cr_data)"
   ],
   "outputs": []
  },
  {
   "cell_type": "code",
   "execution_count": 25,
   "id": "df8a745c",
   "metadata": {},
   "source": [
    "import os\n",
    "import cv2\n",
    "import shutil\n",
    "\n",
    "def get_cropped_image_if_2_eyes(image_path):\n",
    "    try:\n",
    "        img = cv2.imread(image_path)\n",
    "        if img is None:\n",
    "            print(f\"Error: Unable to read image at {image_path}\")\n",
    "            return None\n",
    "        \n",
    "        gray = cv2.cvtColor(img, cv2.COLOR_BGR2GRAY)\n",
    "        faces = face_cascade.detectMultiScale(gray, 1.3, 5)\n",
    "        for (x, y, w, h) in faces:\n",
    "            roi_gray = gray[y:y+h, x:x+w]\n",
    "            roi_color = img[y:y+h, x:x+w]\n",
    "            eyes = eye_cascade.detectMultiScale(roi_gray)\n",
    "            if len(eyes) >= 2:\n",
    "                return roi_color\n",
    "        return None\n",
    "    except Exception as e:\n",
    "        print(f\"Error processing image at {image_path}: {e}\")\n",
    "        return None\n",
    "\n",
    "# Load Haar cascades\n",
    "face_cascade = cv2.CascadeClassifier('model/opencv/haarcascade_frontalface_default.xml')\n",
    "eye_cascade = cv2.CascadeClassifier('model/opencv/haarcascade_eye.xml')\n",
    "\n",
    "# Paths\n",
    "path_to_data = 'model/dataset'\n",
    "path_to_cr_data = 'model/dataset/cropped'\n",
    "\n",
    "# Remove existing cropped images directory\n",
    "if os.path.exists(path_to_cr_data):\n",
    "    shutil.rmtree(path_to_cr_data)\n",
    "os.mkdir(path_to_cr_data)\n",
    "\n",
    "# List to store the paths of all subdirectories\n",
    "img_dirs = [entry.path for entry in os.scandir(path_to_data) if entry.is_dir()]\n",
    "\n",
    "cropped_image_dirs = []\n",
    "celebrity_file_names_dict = {}\n",
    "\n",
    "for img_dir in img_dirs:\n",
    "    celebrity_name = os.path.basename(img_dir)\n",
    "    print(f\"Processing celebrity: {celebrity_name}\")\n",
    "    \n",
    "    celebrity_file_names_dict[celebrity_name] = []\n",
    "    \n",
    "    for entry in os.scandir(img_dir):\n",
    "        if entry.is_file() and entry.name.lower().endswith(('.jpg', '.jpeg', '.png')):\n",
    "            cropped_image = get_cropped_image_if_2_eyes(entry.path)\n",
    "            if cropped_image is not None:\n",
    "                cropped_folder = os.path.join(path_to_cr_data, celebrity_name)\n",
    "                if not os.path.exists(cropped_folder):\n",
    "                    os.makedirs(cropped_folder)\n",
    "                    cropped_image_dirs.append(cropped_folder)\n",
    "                    print(\"Generating cropped images in folder:\", cropped_folder)\n",
    "                \n",
    "                cropped_file_name = f\"{celebrity_name}_{len(celebrity_file_names_dict[celebrity_name]) + 1}.png\"\n",
    "                cropped_file_path = os.path.join(cropped_folder, cropped_file_name)\n",
    "                \n",
    "                cv2.imwrite(cropped_file_path, cropped_image)\n",
    "                celebrity_file_names_dict[celebrity_name].append(cropped_file_path)\n",
    "        else:\n",
    "            print(f\"Ignoring non-image file: {entry.path}\")\n"
   ],
   "outputs": []
  },
  {
   "cell_type": "code",
   "execution_count": 26,
   "id": "cd73cb8c",
   "metadata": {},
   "source": [
    "celebrity_file_names_dict = {}\n",
    "for img_dir in cropped_image_dirs:\n",
    "    celebrity_name = img_dir.split('/')[-1]\n",
    "    file_list = []\n",
    "    for entry in os.scandir(img_dir):\n",
    "        file_list.append(entry.path)\n",
    "    \n",
    "    celebrity_file_names_dict[celebrity_name] = file_list\n",
    "\n",
    "print(celebrity_file_names_dict)\n"
   ],
   "outputs": []
  },
  {
   "cell_type": "code",
   "execution_count": 27,
   "id": "a9fbb7d4",
   "metadata": {},
   "source": [
    "class_dict={}\n",
    "count=0\n",
    "for celebrity_name in celebrity_file_names_dict.keys():\n",
    "    class_dict[celebrity_name]=count\n",
    "    count=count+1\n",
    "class_dict"
   ],
   "outputs": []
  },
  {
   "cell_type": "code",
   "execution_count": 28,
   "id": "01fac150",
   "metadata": {},
   "source": [
    "X , y = [] , []\n",
    "\n",
    "for celebrity_name , training_files in celebrity_file_names_dict.items():\n",
    "    \n",
    "    for training_image in training_files:\n",
    "        img=cv2.imread(training_image)\n",
    "        if img is None:\n",
    "            continue\n",
    "        scalled_raw_img=cv2.resize(img,(32,32))\n",
    "        img_har=w2d(img , 'db1' , 5)\n",
    "        scalled_img_har=cv2.resize(img_har,(32,32))\n",
    "        combined_img=np.vstack((scalled_raw_img.reshape(32*32*3,1),scalled_img_har.reshape(32*32,1)))\n",
    "        X.append(combined_img)\n",
    "        y.append(class_dict[celebrity_name])\n",
    "\n",
    "        \n",
    "        "
   ],
   "outputs": []
  },
  {
   "cell_type": "code",
   "execution_count": 29,
   "id": "c5ac6f57",
   "metadata": {},
   "source": [
    "len(X[0])"
   ],
   "outputs": []
  },
  {
   "cell_type": "code",
   "execution_count": 30,
   "id": "e7037df0",
   "metadata": {
    "scrolled": true
   },
   "source": [
    "32*32*3 + 32*32"
   ],
   "outputs": []
  },
  {
   "cell_type": "code",
   "execution_count": 31,
   "id": "478807f8",
   "metadata": {},
   "source": [
    "X[0]"
   ],
   "outputs": []
  },
  {
   "cell_type": "code",
   "execution_count": 32,
   "id": "7305adb5",
   "metadata": {},
   "source": [
    "y[0]"
   ],
   "outputs": []
  },
  {
   "cell_type": "code",
   "execution_count": 33,
   "id": "cd267f17",
   "metadata": {},
   "source": [
    "X=np.array(X).reshape(len(X),4096).astype(float)\n",
    "X.shape"
   ],
   "outputs": []
  },
  {
   "cell_type": "markdown",
   "id": "4fe02a2e",
   "metadata": {},
   "source": [
    "Data cleaning process is done. Now we are ready to train our model\n",
    "\n",
    "We will use SVM with rbf kernel tuned with heuristic finetuning"
   ]
  },
  {
   "cell_type": "code",
   "execution_count": 34,
   "id": "f77b30d2",
   "metadata": {},
   "source": [
    "from sklearn.svm import SVC\n",
    "from sklearn.preprocessing import StandardScaler\n",
    "from sklearn.model_selection import train_test_split\n",
    "from sklearn.pipeline import Pipeline\n",
    "from sklearn.metrics import classification_report"
   ],
   "outputs": []
  },
  {
   "cell_type": "code",
   "execution_count": 35,
   "id": "2f419f39",
   "metadata": {},
   "source": [
    "X_train , X_test , y_train , y_test = train_test_split(X , y , random_state=0)\n",
    "\n",
    "pipe=Pipeline([('scaler', StandardScaler()), ('svc', SVC(kernel='rbf' , C=10))])\n",
    "\n",
    "pipe.fit(X_train , y_train)\n",
    "pipe.score(X_test , y_test)"
   ],
   "outputs": []
  },
  {
   "cell_type": "code",
   "execution_count": 36,
   "id": "d6d68f54",
   "metadata": {},
   "source": [
    "print(classification_report(y_test , pipe.predict(X_test)))"
   ],
   "outputs": []
  },
  {
   "cell_type": "markdown",
   "id": "82e730dd",
   "metadata": {},
   "source": [
    "Let's use GridSearch to try out different models with different parameters. Goal is to come up with best model with best fined tuned parameters."
   ]
  },
  {
   "cell_type": "code",
   "execution_count": 37,
   "id": "bf73808c",
   "metadata": {},
   "source": [
    "from sklearn import svm\n",
    "from sklearn.ensemble import RandomForestClassifier\n",
    "from sklearn.linear_model import LogisticRegression\n",
    "from sklearn.pipeline import make_pipeline\n",
    "from sklearn.model_selection import GridSearchCV"
   ],
   "outputs": []
  },
  {
   "cell_type": "code",
   "execution_count": 38,
   "id": "0519f59b",
   "metadata": {
    "scrolled": true
   },
   "source": [
    "model_params={\n",
    "    'svm' :{\n",
    "        'model': svm.SVC(gamma='auto' , probability=True) , \n",
    "        'params' : {\n",
    "            'svc__C' :[1,10,100,1000] ,\n",
    "            'svc__kernel' : ['rbf' , 'linear']\n",
    "        }\n",
    "    } , \n",
    "    'random_forest' :{\n",
    "        'model' : RandomForestClassifier() , \n",
    "        'params' : {\n",
    "            'randomforestclassifier__n_estimators' :[1,5,10]\n",
    "        }\n",
    "    } , \n",
    "    'logistic_regression' :{\n",
    "        'model' : LogisticRegression(solver='liblinear' , multi_class='auto') , \n",
    "        'params' : {\n",
    "            'logisticregression__C' : [1,5,10]\n",
    "            \n",
    "        }\n",
    "    }\n",
    "}"
   ],
   "outputs": []
  },
  {
   "cell_type": "code",
   "execution_count": 39,
   "id": "1cd00a54",
   "metadata": {},
   "source": [
    "scores=[]\n",
    "best_estimators={}\n",
    "import pandas as pd\n",
    "for algo , mp in model_params.items():\n",
    "    pipe=make_pipeline(StandardScaler() , mp['model'])\n",
    "    clf=GridSearchCV(pipe , mp['params'] , cv= 5 , return_train_score=False , n_jobs=-1, verbose=1)\n",
    "    clf.fit(X_train , y_train)\n",
    "    scores.append({\n",
    "        'model' : algo , \n",
    "        'best_score' : clf.best_score_ ,\n",
    "        'best_params' : clf.best_params_\n",
    "    })\n",
    "    best_estimators[algo]=clf.best_estimator_\n",
    "    \n",
    "df=pd.DataFrame(scores , columns=['model' , 'best_score' , 'best_params'])\n",
    "df"
   ],
   "outputs": []
  },
  {
   "cell_type": "code",
   "execution_count": 40,
   "id": "def92e37",
   "metadata": {},
   "source": [
    "best_estimators"
   ],
   "outputs": []
  },
  {
   "cell_type": "code",
   "execution_count": 41,
   "id": "af1b05b2",
   "metadata": {},
   "source": [
    "best_estimators['svm'].score(X_test , y_test)"
   ],
   "outputs": []
  },
  {
   "cell_type": "code",
   "execution_count": 42,
   "id": "b27aa2f1",
   "metadata": {},
   "source": [
    "best_estimators['random_forest'].score(X_test , y_test)"
   ],
   "outputs": []
  },
  {
   "cell_type": "code",
   "execution_count": 43,
   "id": "eaf5489c",
   "metadata": {},
   "source": [
    "best_estimators['logistic_regression'].score(X_test , y_test)"
   ],
   "outputs": []
  },
  {
   "cell_type": "code",
   "execution_count": 44,
   "id": "fd064108",
   "metadata": {},
   "source": [
    "best_clf=best_estimators['svm']"
   ],
   "outputs": []
  },
  {
   "cell_type": "code",
   "execution_count": 45,
   "id": "faf72112",
   "metadata": {},
   "source": [
    "from sklearn.metrics import confusion_matrix\n",
    "cm=confusion_matrix(y_test , best_clf.predict(X_test))\n",
    "cm"
   ],
   "outputs": []
  },
  {
   "cell_type": "code",
   "execution_count": 46,
   "id": "dd20c8b0",
   "metadata": {},
   "source": [
    "import seaborn as sns\n",
    "plt.figure(figsize=(10,7))\n",
    "sns.heatmap(cm , annot=True)\n",
    "plt.xlabel('Predicted')\n",
    "plt.ylabel('Truth')"
   ],
   "outputs": []
  },
  {
   "cell_type": "code",
   "execution_count": 47,
   "id": "b5149aff",
   "metadata": {},
   "source": [
    "class_dict"
   ],
   "outputs": []
  },
  {
   "cell_type": "markdown",
   "id": "3c9a07c1",
   "metadata": {},
   "source": [
    "Save the trained model"
   ]
  },
  {
   "cell_type": "code",
   "execution_count": 48,
   "id": "89e42510",
   "metadata": {},
   "source": [
    "import joblib as jb\n",
    "#Save the model as a pickle in a file\n",
    "jb.dump(best_clf , \"saved_model.pkl\")"
   ],
   "outputs": []
  },
  {
   "cell_type": "markdown",
   "id": "b338543b",
   "metadata": {},
   "source": [
    "Save class dictionary"
   ]
  },
  {
   "cell_type": "code",
   "execution_count": 49,
   "id": "f512796c",
   "metadata": {},
   "source": [
    "import json\n",
    "with open(\"class_dictionary.json\" , \"w\") as f:\n",
    "    f.write(json.dumps(class_dict))"
   ],
   "outputs": []
  },
  {
   "cell_type": "code",
   "execution_count": null,
   "id": "33abb013",
   "metadata": {},
   "source": [],
   "outputs": []
  }
 ],
 "metadata": {
  "kernelspec": {
   "display_name": "Python 3 (ipykernel)",
   "language": "python",
   "name": "python3"
  },
  "language_info": {
   "codemirror_mode": {
    "name": "ipython",
    "version": 3
   },
   "file_extension": ".py",
   "mimetype": "text/x-python",
   "name": "python",
   "nbconvert_exporter": "python",
   "pygments_lexer": "ipython3",
   "version": "3.9.13"
  }
 },
 "nbformat": 4,
 "nbformat_minor": 5
}
